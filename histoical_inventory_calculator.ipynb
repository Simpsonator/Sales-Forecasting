{
 "cells": [
  {
   "cell_type": "code",
   "execution_count": null,
   "metadata": {},
   "outputs": [],
   "source": [
    "import numpy as np\n",
    "import pandas as pd\n",
    "import datetime\n",
    "import warnings\n",
    "warnings.filterwarnings(\"ignore\")\n",
    "\n",
    "df_historical_data = pd.read_excel(\"Inventory Value Extract.xlsx\")"
   ]
  },
  {
   "cell_type": "code",
   "execution_count": 2,
   "metadata": {},
   "outputs": [
    {
     "name": "stdout",
     "output_type": "stream",
     "text": [
      "<class 'pandas.core.frame.DataFrame'>\n",
      "RangeIndex: 63195 entries, 0 to 63194\n",
      "Data columns (total 8 columns):\n",
      " #   Column               Non-Null Count  Dtype         \n",
      "---  ------               --------------  -----         \n",
      " 0   MATERIAL             63195 non-null  object        \n",
      " 1   LOAD_DATE            63195 non-null  datetime64[ns]\n",
      " 2   END_DATE             63195 non-null  object        \n",
      " 3   TOTAL_INV_VALUE_USD  63195 non-null  float64       \n",
      " 4   PLANT                63195 non-null  int64         \n",
      " 5   CURRENT_RECORD       63195 non-null  object        \n",
      " 6   LOAD_MON_YR          63195 non-null  object        \n",
      " 7   LOAD_DAY             63195 non-null  int32         \n",
      "dtypes: datetime64[ns](1), float64(1), int32(1), int64(1), object(4)\n",
      "memory usage: 3.6+ MB\n"
     ]
    }
   ],
   "source": [
    "# Convert the 'LOAD_DATE' column to datetime in one step\n",
    "df_historical_data['LOAD_DATE'] = pd.to_datetime(df_historical_data['LOAD_DATE'], format=\"%d-%b-%y\")\n",
    "\n",
    "# Extract the month/year and day components\n",
    "df_historical_data['LOAD_MON_YR'] = df_historical_data['LOAD_DATE'].dt.strftime('%Y-%m')\n",
    "df_historical_data['LOAD_DAY'] = df_historical_data['LOAD_DATE'].dt.day\n",
    "\n",
    "# Display the DataFrame information to verify the data types\n",
    "df_historical_data.info()\n"
   ]
  },
  {
   "cell_type": "code",
   "execution_count": 3,
   "metadata": {},
   "outputs": [
    {
     "name": "stderr",
     "output_type": "stream",
     "text": [
      "C:\\Users\\ti290f\\AppData\\Local\\Temp\\ipykernel_14796\\2113482122.py:22: DeprecationWarning: DataFrameGroupBy.apply operated on the grouping columns. This behavior is deprecated, and in a future version of pandas the grouping columns will be excluded from the operation. Either pass `include_groups=False` to exclude the groupings or explicitly select the grouping columns after groupby to silence this warning.\n",
      "  filled_data = grouped_df_historical_data.groupby('MATERIAL_PLANT').apply(reindex_and_fill)\n"
     ]
    }
   ],
   "source": [
    "# Group by plant and material and find max date values\n",
    "idx = df_historical_data.groupby(['PLANT', 'MATERIAL', 'LOAD_MON_YR'])['LOAD_DAY'].idxmax()\n",
    "grouped_df_historical_data = df_historical_data.loc[idx].reset_index(drop=True)\n",
    "\n",
    "# Drop unnecessary columns\n",
    "grouped_df_historical_data = grouped_df_historical_data.drop(columns=['LOAD_DAY', 'LOAD_MON_YR', 'END_DATE', 'CURRENT_RECORD'])\n",
    "\n",
    "# Create a combined 'MATERIAL_PLANT' column\n",
    "grouped_df_historical_data['MATERIAL_PLANT'] = grouped_df_historical_data['MATERIAL'] + '_' + grouped_df_historical_data['PLANT'].astype(str)\n",
    "\n",
    "end_date = '2025-08-28'\n",
    "\n",
    "# Set 'LOAD_DATE' as the index for time-series operations\n",
    "grouped_df_historical_data = grouped_df_historical_data.set_index('LOAD_DATE').copy()\n",
    "\n",
    "# Group the DataFrame by 'MATERIAL_PLANT', reindex, and ffill\n",
    "def reindex_and_fill(group):\n",
    "    # This correctly creates a date range from the group's earliest date to the end_date.\n",
    "    idx = pd.date_range(start=group.index.min(), end=end_date)\n",
    "    return group.reindex(idx).ffill()\n",
    "\n",
    "filled_data = grouped_df_historical_data.groupby('MATERIAL_PLANT').apply(reindex_and_fill)\n",
    "\n",
    "# FIX: Drop the top level of the MultiIndex created by apply()\n",
    "# This removes the 'MATERIAL_PLANT' index level\n",
    "filled_data = filled_data.droplevel(0)\n",
    "\n",
    "# Now, reset the index to turn the 'LOAD_DATE' index into a column\n",
    "filled_data = filled_data.reset_index()\n",
    "\n",
    "# Rename the newly created date column explicitly\n",
    "filled_data = filled_data.rename(columns={'index': 'LOAD_DATE'})\n",
    "\n",
    "# Create the year_month and day columns on the full dataset\n",
    "filled_data['year_month'] = filled_data['LOAD_DATE'].dt.strftime('%Y-%m')\n",
    "filled_data['day'] = filled_data['LOAD_DATE'].dt.day\n",
    "\n",
    "# Group by 'MATERIAL_PLANT' and 'year_month' to find the max day\n",
    "#new_df = filled_data.groupby(['MATERIAL_PLANT', 'year_month']).max('day').reset_index()\n",
    "\n",
    "\n",
    "# Group by 'MATERIAL_PLANT' and 'year_month', and find the index of the max 'day'\n",
    "idx = filled_data.groupby(['MATERIAL_PLANT', 'year_month'])['day'].idxmax()\n",
    "\n",
    "# Use the indices found with idxmax() to get the rows with the max day\n",
    "# Select the desired columns: 'MATERIAL_PLANT', 'year_month', and the inventory value\n",
    "new_df = filled_data.loc[idx, ['MATERIAL_PLANT', 'year_month', 'TOTAL_INV_VALUE_USD']].reset_index(drop=True)\n",
    "\n",
    "\n",
    "Month_Year_Inventory_aggregate = new_df.groupby('year_month').sum('TOTAL_INV_VALUE_USD')\n",
    "Month_Year_Inventory_aggregate.to_excel('Month_Year_Inventory_aggregate.xlsx')\n",
    "new_df.to_excel('historical_inventory_output.xlsx')"
   ]
  }
 ],
 "metadata": {
  "kernelspec": {
   "display_name": "python39",
   "language": "python",
   "name": "python3"
  },
  "language_info": {
   "codemirror_mode": {
    "name": "ipython",
    "version": 3
   },
   "file_extension": ".py",
   "mimetype": "text/x-python",
   "name": "python",
   "nbconvert_exporter": "python",
   "pygments_lexer": "ipython3",
   "version": "3.12.4"
  }
 },
 "nbformat": 4,
 "nbformat_minor": 2
}
